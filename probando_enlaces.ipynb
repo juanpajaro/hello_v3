{
  "nbformat": 4,
  "nbformat_minor": 0,
  "metadata": {
    "colab": {
      "provenance": [],
      "authorship_tag": "ABX9TyPJQez27TUpADZpTIO1L7/+",
      "include_colab_link": true
    },
    "kernelspec": {
      "name": "python3",
      "display_name": "Python 3"
    },
    "language_info": {
      "name": "python"
    }
  },
  "cells": [
    {
      "cell_type": "markdown",
      "metadata": {
        "id": "view-in-github",
        "colab_type": "text"
      },
      "source": [
        "<a href=\"https://colab.research.google.com/github/juanpajaro/hello_v3/blob/main/probando_enlaces.ipynb\" target=\"_parent\"><img src=\"https://colab.research.google.com/assets/colab-badge.svg\" alt=\"Open In Colab\"/></a>"
      ]
    },
    {
      "cell_type": "markdown",
      "source": [
        "Esto es una prueba"
      ],
      "metadata": {
        "id": "oHVV-ezHBBiA"
      }
    },
    {
      "cell_type": "code",
      "execution_count": 1,
      "metadata": {
        "id": "rXMOMp__-iPM"
      },
      "outputs": [],
      "source": [
        "# prompt: escribe una funcion que reciba un string y genere un \"hola, string\"\n",
        "\n",
        "def saludar(nombre):\n",
        "  \"\"\"\n",
        "  Esta función recibe un nombre (string) y devuelve un saludo.\n",
        "  \"\"\"\n",
        "  return f\"hola, {nombre}\"\n"
      ]
    },
    {
      "cell_type": "code",
      "source": [
        "# Ejemplo de uso:\n",
        "saludo = saludar(\"Mundo\")\n",
        "print(saludo)"
      ],
      "metadata": {
        "id": "rMs0C9ImCmdj",
        "outputId": "57c5a637-abb6-4c51-c1ce-444e20ae4665",
        "colab": {
          "base_uri": "https://localhost:8080/"
        }
      },
      "execution_count": 2,
      "outputs": [
        {
          "output_type": "stream",
          "name": "stdout",
          "text": [
            "hola, Mundo\n"
          ]
        }
      ]
    },
    {
      "cell_type": "code",
      "source": [],
      "metadata": {
        "id": "WPTDydSaCqsy"
      },
      "execution_count": null,
      "outputs": []
    }
  ]
}