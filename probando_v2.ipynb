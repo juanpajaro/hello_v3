{
  "nbformat": 4,
  "nbformat_minor": 0,
  "metadata": {
    "colab": {
      "provenance": [],
      "authorship_tag": "ABX9TyPfLE9ADeGxStEAw3QbMrDz",
      "include_colab_link": true
    },
    "kernelspec": {
      "name": "python3",
      "display_name": "Python 3"
    },
    "language_info": {
      "name": "python"
    }
  },
  "cells": [
    {
      "cell_type": "markdown",
      "metadata": {
        "id": "view-in-github",
        "colab_type": "text"
      },
      "source": [
        "<a href=\"https://colab.research.google.com/github/juanpajaro/hello_v3/blob/main/probando_v2.ipynb\" target=\"_parent\"><img src=\"https://colab.research.google.com/assets/colab-badge.svg\" alt=\"Open In Colab\"/></a>"
      ]
    },
    {
      "cell_type": "code",
      "execution_count": null,
      "metadata": {
        "id": "9rLSNdKADMy-"
      },
      "outputs": [],
      "source": [
        "# prompt: crea una función que reciba el nombre de una ciudad y el nombre de persona y retorne bienvenido nombre de nombre de ciudad\n",
        "\n",
        "def saludar_ciudad(nombre_ciudad, nombre_persona):\n",
        "  \"\"\"\n",
        "  Esta función saluda a una persona en una ciudad específica.\n",
        "\n",
        "  Args:\n",
        "    nombre_ciudad: El nombre de la ciudad.\n",
        "    nombre_persona: El nombre de la persona.\n",
        "\n",
        "  Returns:\n",
        "    Un string con el saludo.\n",
        "  \"\"\"\n",
        "  return f\"¡Bienvenido {nombre_persona} de {nombre_ciudad}!\"\n"
      ]
    },
    {
      "cell_type": "code",
      "source": [
        "saludar_ciudad(\"Buenos Aires\", \"Juan\")"
      ],
      "metadata": {
        "id": "t2wQY3UAEuKP",
        "outputId": "7d6617a1-aa43-49f7-c6e3-ba1591b15fe8",
        "colab": {
          "base_uri": "https://localhost:8080/",
          "height": 36
        }
      },
      "execution_count": null,
      "outputs": [
        {
          "output_type": "execute_result",
          "data": {
            "text/plain": [
              "'¡Bienvenido Juan de Buenos Aires!'"
            ],
            "application/vnd.google.colaboratory.intrinsic+json": {
              "type": "string"
            }
          },
          "metadata": {},
          "execution_count": 5
        }
      ]
    },
    {
      "cell_type": "code",
      "source": [
        "# prompt: genera una función que recibe el nombre, apellido y universidad y retorna \"bienvenido juan pajaro a la universidad javeriana\"\n",
        "\n",
        "def dar_bienvenida(nombre, apellido, universidad):\n",
        "  \"\"\"\n",
        "  Esta función crea un mensaje de bienvenida con nombre, apellido y universidad.\n",
        "\n",
        "  Args:\n",
        "    nombre: El nombre de la persona.\n",
        "    apellido: El apellido de la persona.\n",
        "    universidad: El nombre de la universidad.\n",
        "\n",
        "  Returns:\n",
        "    Un string con el mensaje de bienvenida.\n",
        "  \"\"\"\n",
        "  return f\"bienvenido {nombre} {apellido} a la universidad {universidad}\"\n",
        "\n",
        "dar_bienvenida(\"juan\", \"pajaro\", \"javeriana\")\n"
      ],
      "metadata": {
        "id": "EA1R1lt9Exad",
        "outputId": "a46bb003-62b4-45c6-d250-e8a4e336db2f",
        "colab": {
          "base_uri": "https://localhost:8080/",
          "height": 36
        }
      },
      "execution_count": 8,
      "outputs": [
        {
          "output_type": "execute_result",
          "data": {
            "text/plain": [
              "'bienvenido juan pajaro a la universidad javeriana'"
            ],
            "application/vnd.google.colaboratory.intrinsic+json": {
              "type": "string"
            }
          },
          "metadata": {},
          "execution_count": 8
        }
      ]
    },
    {
      "cell_type": "code",
      "source": [],
      "metadata": {
        "id": "iHSayjmGGau9"
      },
      "execution_count": null,
      "outputs": []
    }
  ]
}