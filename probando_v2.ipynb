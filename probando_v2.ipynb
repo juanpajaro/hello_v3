{
  "nbformat": 4,
  "nbformat_minor": 0,
  "metadata": {
    "colab": {
      "provenance": [],
      "authorship_tag": "ABX9TyOHcaElXizNMcLgiAV6/4tT",
      "include_colab_link": true
    },
    "kernelspec": {
      "name": "python3",
      "display_name": "Python 3"
    },
    "language_info": {
      "name": "python"
    }
  },
  "cells": [
    {
      "cell_type": "markdown",
      "metadata": {
        "id": "view-in-github",
        "colab_type": "text"
      },
      "source": [
        "<a href=\"https://colab.research.google.com/github/juanpajaro/hello_v3/blob/main/probando_v2.ipynb\" target=\"_parent\"><img src=\"https://colab.research.google.com/assets/colab-badge.svg\" alt=\"Open In Colab\"/></a>"
      ]
    },
    {
      "cell_type": "code",
      "execution_count": 1,
      "metadata": {
        "id": "9rLSNdKADMy-"
      },
      "outputs": [],
      "source": [
        "# prompt: genera una función que recibe nombre, apellido y retorna \"bienvenido al curso nombre apellido\"\n",
        "\n",
        "def dar_bienvenida(nombre, apellido):\n",
        "  \"\"\"\n",
        "  Genera un mensaje de bienvenida con el nombre y apellido proporcionados.\n",
        "\n",
        "  Args:\n",
        "    nombre: El nombre de la persona.\n",
        "    apellido: El apellido de la persona.\n",
        "\n",
        "  Returns:\n",
        "    Un string con el mensaje de bienvenida.\n",
        "  \"\"\"\n",
        "  return f\"bienvenido al curso {nombre} {apellido}\""
      ]
    },
    {
      "cell_type": "code",
      "source": [
        "# Ejemplo de uso:\n",
        "mensaje = dar_bienvenida(\"Juan\", \"Pérez\")\n",
        "print(mensaje)"
      ],
      "metadata": {
        "colab": {
          "base_uri": "https://localhost:8080/"
        },
        "id": "m2K7g9NgDgyE",
        "outputId": "a1393cb9-bd82-4321-b406-4db5b99c107f"
      },
      "execution_count": 2,
      "outputs": [
        {
          "output_type": "stream",
          "name": "stdout",
          "text": [
            "bienvenido al curso Juan Pérez\n"
          ]
        }
      ]
    },
    {
      "cell_type": "code",
      "source": [
        "!git status"
      ],
      "metadata": {
        "colab": {
          "base_uri": "https://localhost:8080/"
        },
        "id": "N9y_DrViDnDc",
        "outputId": "0e71329b-1ebe-4769-db6f-076806a61dd6"
      },
      "execution_count": 3,
      "outputs": [
        {
          "output_type": "stream",
          "name": "stdout",
          "text": [
            "fatal: not a git repository (or any of the parent directories): .git\n"
          ]
        }
      ]
    },
    {
      "cell_type": "code",
      "source": [],
      "metadata": {
        "id": "FR8VO_8qD4kp"
      },
      "execution_count": null,
      "outputs": []
    }
  ]
}