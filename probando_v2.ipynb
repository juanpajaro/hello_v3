{
  "nbformat": 4,
  "nbformat_minor": 0,
  "metadata": {
    "colab": {
      "provenance": [],
      "authorship_tag": "ABX9TyPSAEfpM2hCRi/76Z/0BLcQ",
      "include_colab_link": true
    },
    "kernelspec": {
      "name": "python3",
      "display_name": "Python 3"
    },
    "language_info": {
      "name": "python"
    }
  },
  "cells": [
    {
      "cell_type": "markdown",
      "metadata": {
        "id": "view-in-github",
        "colab_type": "text"
      },
      "source": [
        "<a href=\"https://colab.research.google.com/github/juanpajaro/hello_v3/blob/main/probando_v2.ipynb\" target=\"_parent\"><img src=\"https://colab.research.google.com/assets/colab-badge.svg\" alt=\"Open In Colab\"/></a>"
      ]
    },
    {
      "cell_type": "code",
      "execution_count": null,
      "metadata": {
        "id": "9rLSNdKADMy-"
      },
      "outputs": [],
      "source": [
        "# prompt: crea una función que reciba el nombre de una ciudad y el nombre de persona y retorne bienvenido nombre de nombre de ciudad\n",
        "\n",
        "def saludar_ciudad(nombre_ciudad, nombre_persona):\n",
        "  \"\"\"\n",
        "  Esta función saluda a una persona en una ciudad específica.\n",
        "\n",
        "  Args:\n",
        "    nombre_ciudad: El nombre de la ciudad.\n",
        "    nombre_persona: El nombre de la persona.\n",
        "\n",
        "  Returns:\n",
        "    Un string con el saludo.\n",
        "  \"\"\"\n",
        "  return f\"¡Bienvenido {nombre_persona} de {nombre_ciudad}!\"\n"
      ]
    },
    {
      "cell_type": "code",
      "source": [
        "saludar_ciudad(\"Buenos Aires\", \"Juan\")"
      ],
      "metadata": {
        "id": "t2wQY3UAEuKP",
        "outputId": "7d6617a1-aa43-49f7-c6e3-ba1591b15fe8",
        "colab": {
          "base_uri": "https://localhost:8080/",
          "height": 36
        }
      },
      "execution_count": null,
      "outputs": [
        {
          "output_type": "execute_result",
          "data": {
            "text/plain": [
              "'¡Bienvenido Juan de Buenos Aires!'"
            ],
            "application/vnd.google.colaboratory.intrinsic+json": {
              "type": "string"
            }
          },
          "metadata": {},
          "execution_count": 5
        }
      ]
    },
    {
      "cell_type": "code",
      "source": [
        "# prompt: crea una función que retorne cinco numeros aletorios\n",
        "\n",
        "import random\n",
        "\n",
        "def generar_cinco_numeros_aleatorios():\n",
        "  \"\"\"\n",
        "  Esta función retorna una lista con cinco números aleatorios.\n",
        "\n",
        "  Returns:\n",
        "    Una lista de cinco enteros aleatorios.\n",
        "  \"\"\"\n",
        "  return [random.randint(1, 100) for _ in range(5)] # Genera 5 números aleatorios entre 1 y 100"
      ],
      "metadata": {
        "id": "EA1R1lt9Exad"
      },
      "execution_count": 6,
      "outputs": []
    },
    {
      "cell_type": "code",
      "source": [
        "# Ejemplo de uso:\n",
        "numeros = generar_cinco_numeros_aleatorios()\n",
        "numeros"
      ],
      "metadata": {
        "id": "Lf84fqg5FP-b",
        "outputId": "a6e3afed-4493-451f-fef9-b97b68c046bc",
        "colab": {
          "base_uri": "https://localhost:8080/"
        }
      },
      "execution_count": 7,
      "outputs": [
        {
          "output_type": "execute_result",
          "data": {
            "text/plain": [
              "[94, 43, 13, 27, 36]"
            ]
          },
          "metadata": {},
          "execution_count": 7
        }
      ]
    },
    {
      "cell_type": "code",
      "source": [],
      "metadata": {
        "id": "8Z6kVvGyFR_T"
      },
      "execution_count": null,
      "outputs": []
    }
  ]
}